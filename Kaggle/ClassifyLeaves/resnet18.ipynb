{
 "cells": [
  {
   "cell_type": "code",
   "execution_count": 17,
   "metadata": {},
   "outputs": [
    {
     "name": "stdout",
     "output_type": "stream",
     "text": [
      "          image             label\n",
      "0  images/0.jpg  maclura_pomifera\n",
      "1  images/1.jpg  maclura_pomifera\n",
      "2  images/2.jpg  maclura_pomifera\n",
      "3  images/3.jpg  maclura_pomifera\n",
      "4  images/4.jpg  maclura_pomifera\n"
     ]
    }
   ],
   "source": [
    "import os\n",
    "import pandas as pd\n",
    "from torchvision import transforms\n",
    "from torch.utils.data import Dataset, DataLoader\n",
    "from PIL import Image\n",
    "import torch\n",
    "import torch.nn as nn\n",
    "import torchvision.models as models\n",
    "from tqdm import tqdm\n",
    "\n",
    "# data_path\n",
    "data_dir = 'data'\n",
    "train_csv = os.path.join(data_dir, 'train.csv')\n",
    "test_csv = os.path.join(data_dir, 'test.csv')\n",
    "img_dir = os.path.join(data_dir, 'images')\n",
    "\n",
    "# 训练数据和标签\n",
    "train_df = pd.read_csv(train_csv)\n",
    "print(train_df.head())"
   ]
  },
  {
   "cell_type": "code",
   "execution_count": 18,
   "metadata": {},
   "outputs": [],
   "source": [
    "class LeafDataset(Dataset):\n",
    "    def __init__(self, csv_file, root_dir, transform=None, train=True):\n",
    "        self.data_frame = pd.read_csv(csv_file)\n",
    "        self.root_dir = root_dir\n",
    "        self.transform = transform\n",
    "        self.train = train\n",
    "\n",
    "        if self.train:\n",
    "            # 创建标签映射\n",
    "            self.label_mapping = {label: idx for idx, label in enumerate(self.data_frame['label'].unique())}\n",
    "            self.data_frame['label'] = self.data_frame['label'].map(self.label_mapping)\n",
    "        else:\n",
    "            self.data_frame['label'] = None\n",
    "\n",
    "    def __len__(self):\n",
    "        return len(self.data_frame)\n",
    "\n",
    "    def __getitem__(self, idx):\n",
    "        img_name = os.path.join(self.root_dir, self.data_frame.iloc[idx, 0])\n",
    "        image = Image.open(img_name)\n",
    "\n",
    "        if self.transform:\n",
    "            image = self.transform(image)\n",
    "\n",
    "        if self.train:\n",
    "            label = self.data_frame.iloc[idx, 1]\n",
    "            label = torch.tensor(label, dtype=torch.long)\n",
    "            return image, label\n",
    "        else:\n",
    "            return image, self.data_frame.iloc[idx, 0]\n",
    "\n",
    "transform = transforms.Compose([\n",
    "    transforms.Resize((224, 224)),\n",
    "    transforms.ToTensor(),\n",
    "    transforms.Normalize(mean=[0.485, 0.456, 0.406], std=[0.229, 0.224, 0.225])\n",
    "])"
   ]
  },
  {
   "cell_type": "code",
   "execution_count": 19,
   "metadata": {},
   "outputs": [],
   "source": [
    "# 加载训练数据集和数据加载器\n",
    "train_dataset = LeafDataset(csv_file='data/train.csv', root_dir='data', transform=transform, train=True)\n",
    "train_loader = DataLoader(train_dataset, batch_size=32, shuffle=True)\n",
    "\n",
    "# 加载测试数据集和数据加载器\n",
    "test_dataset = LeafDataset(csv_file='data/test.csv', root_dir='data', transform=transform, train=False)\n",
    "test_loader = DataLoader(test_dataset, batch_size=32, shuffle=False)\n",
    "\n",
    "# 加载模型和设置设备\n",
    "weights = models.ResNet18_Weights.IMAGENET1K_V1  # 使用最新的权重枚举值\n",
    "model = models.resnet18(weights=weights)\n",
    "num_ftrs = model.fc.in_features\n",
    "num_classes = len(train_dataset.label_mapping)  # 确保你知道有多少个类别\n",
    "model.fc = nn.Linear(num_ftrs, num_classes)\n",
    "\n",
    "device = torch.device(\"cuda\" if torch.cuda.is_available() else \"cpu\")\n",
    "model = model.to(device)\n",
    "\n",
    "# 定义损失函数和优化器\n",
    "criterion = nn.CrossEntropyLoss()\n",
    "optimizer = torch.optim.Adam(model.parameters(), lr=0.001)\n"
   ]
  },
  {
   "cell_type": "code",
   "execution_count": 20,
   "metadata": {},
   "outputs": [
    {
     "data": {
      "image/png": "[encoded data removed]",
      "text/plain": [
       "<Figure size 350x250 with 1 Axes>"
      ]
     },
     "metadata": {},
     "output_type": "display_data"
    }
   ],
   "source": [
    "from animator import Animator\n",
    "\n",
    "# 加载之前保存的模型权重\n",
    "model.load_state_dict(torch.load('weights/resnet18_weights.pth'))\n",
    "\n",
    "\n",
    "# 训练模型\n",
    "num_epochs = 20\n",
    "\n",
    "# 使用 Animator 动态绘图\n",
    "animator = Animator(xlabel='Epoch', ylabel='Loss', xlim=[0, num_epochs], ylim=[0, 1])\n",
    "\n",
    "for epoch in range(num_epochs):\n",
    "    model.train()\n",
    "    running_loss = 0.0\n",
    "    for inputs, labels in train_loader:\n",
    "        inputs, labels = inputs.to(device), labels.to(device)\n",
    "\n",
    "        optimizer.zero_grad()\n",
    "\n",
    "        outputs = model(inputs)\n",
    "        loss = criterion(outputs, labels)\n",
    "        loss.backward()\n",
    "        optimizer.step()\n",
    "\n",
    "        running_loss += loss.item() * inputs.size(0)\n",
    "\n",
    "    epoch_loss = running_loss / len(train_loader.dataset)\n",
    "    print(f'Epoch {epoch+1}/{num_epochs}, Loss: {epoch_loss:.4f}')\n",
    "    # 添加损失到动画\n",
    "    animator.add(epoch + 1, epoch_loss)\n",
    "    \n",
    "    # 保存模型权重\n",
    "torch.save(model.state_dict(), 'weights/resnet18_weights.pth')\n"
   ]
  },
  {
   "cell_type": "code",
   "execution_count": 21,
   "metadata": {},
   "outputs": [],
   "source": [
    "# 加载模型权重（在需要时）\n",
    "model.load_state_dict(torch.load('weights/resnet18_weights.pth'))\n",
    "model = model.to(device)\n",
    "\n",
    "# 进行预测并生成提交文件\n",
    "model.eval()\n",
    "predictions = []\n",
    "\n",
    "with torch.no_grad():\n",
    "    for inputs, file_paths in test_loader:\n",
    "        inputs = inputs.to(device)\n",
    "        outputs = model(inputs)\n",
    "        _, preds = torch.max(outputs, 1)\n",
    "        predictions.extend(zip(file_paths, preds.cpu().numpy()))\n",
    "\n",
    "# 创建标签映射的反向字典\n",
    "reverse_label_mapping = {v: k for k, v in train_dataset.label_mapping.items()}\n",
    "\n",
    "# 根据预测结果生成提交文件\n",
    "submission = pd.DataFrame(predictions, columns=['image', 'label'])\n",
    "submission['label'] = submission['label'].map(reverse_label_mapping)\n",
    "submission.to_csv('submission_resnet18.csv', index=False)"
   ]
  }
 ],
 "metadata": {
  "kernelspec": {
   "display_name": "d2l",
   "language": "python",
   "name": "python3"
  },
  "language_info": {
   "codemirror_mode": {
    "name": "ipython",
    "version": 3
   },
   "file_extension": ".py",
   "mimetype": "text/x-python",
   "name": "python",
   "nbconvert_exporter": "python",
   "pygments_lexer": "ipython3",
   "version": "3.9.19"
  }
 },
 "nbformat": 4,
 "nbformat_minor": 2
}
