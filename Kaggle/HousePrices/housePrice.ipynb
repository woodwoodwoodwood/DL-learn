{
 "cells": [
  {
   "cell_type": "markdown",
   "metadata": {},
   "source": [
    "# 1. 数据预处理"
   ]
  },
  {
   "cell_type": "code",
   "execution_count": 11,
   "metadata": {},
   "outputs": [
    {
     "name": "stdout",
     "output_type": "stream",
     "text": [
      "Train data shape: (1460, 81)\n",
      "Test data shape: (1459, 80)\n",
      "All features shape after concat: (2919, 79)\n",
      "Numeric features: Index(['MSSubClass', 'LotFrontage', 'LotArea', 'OverallQual', 'OverallCond',\n",
      "       'YearBuilt', 'YearRemodAdd', 'MasVnrArea', 'BsmtFinSF1', 'BsmtFinSF2',\n",
      "       'BsmtUnfSF', 'TotalBsmtSF', '1stFlrSF', '2ndFlrSF', 'LowQualFinSF',\n",
      "       'GrLivArea', 'BsmtFullBath', 'BsmtHalfBath', 'FullBath', 'HalfBath',\n",
      "       'BedroomAbvGr', 'KitchenAbvGr', 'TotRmsAbvGrd', 'Fireplaces',\n",
      "       'GarageYrBlt', 'GarageCars', 'GarageArea', 'WoodDeckSF', 'OpenPorchSF',\n",
      "       'EnclosedPorch', '3SsnPorch', 'ScreenPorch', 'PoolArea', 'MiscVal',\n",
      "       'MoSold', 'YrSold'],\n",
      "      dtype='object')\n",
      "All features shape after get_dummies: (2919, 330)\n",
      "MSSubClass               float32\n",
      "LotFrontage              float32\n",
      "LotArea                  float32\n",
      "OverallQual              float32\n",
      "OverallCond              float32\n",
      "                          ...   \n",
      "SaleCondition_Alloca     float32\n",
      "SaleCondition_Family     float32\n",
      "SaleCondition_Normal     float32\n",
      "SaleCondition_Partial    float32\n",
      "SaleCondition_nan        float32\n",
      "Length: 330, dtype: object\n",
      "Train features shape: torch.Size([1460, 330])\n",
      "Test features shape: torch.Size([1459, 330])\n",
      "Train labels shape: torch.Size([1460, 1])\n"
     ]
    }
   ],
   "source": [
    "%matplotlib inline\n",
    "import numpy as np\n",
    "import pandas as pd\n",
    "import torch\n",
    "import torch.nn as nn\n",
    "import torch.optim as optim\n",
    "from torch.utils.data import DataLoader, TensorDataset\n",
    "\n",
    "# 读取数据\n",
    "train_data = pd.read_csv('data/train.csv')\n",
    "test_data = pd.read_csv('data/test.csv')\n",
    "\n",
    "print(\"Train data shape:\", train_data.shape)\n",
    "print(\"Test data shape:\", test_data.shape)\n",
    "\n",
    "# 合并训练数据和测试数据（不包括目标列）\n",
    "all_features = pd.concat((train_data.iloc[:, 1:-1], test_data.iloc[:, 1:]))\n",
    "print(\"All features shape after concat:\", all_features.shape)\n",
    "\n",
    "# 处理数值特征\n",
    "numeric_features = all_features.dtypes[all_features.dtypes != 'object'].index\n",
    "print(\"Numeric features:\", numeric_features)\n",
    "\n",
    "# 标准化数值特征\n",
    "all_features[numeric_features] = all_features[numeric_features].apply(\n",
    "    lambda x: (x - x.mean()) / x.std())\n",
    "\n",
    "# 在标准化数据之后，将缺失值填充为0\n",
    "all_features[numeric_features] = all_features[numeric_features].fillna(0)\n",
    "\n",
    "# 独热编码分类特征，并将缺失值视为有效的特征值\n",
    "all_features = pd.get_dummies(all_features, dummy_na=True)\n",
    "print(\"All features shape after get_dummies:\", all_features.shape)\n",
    "\n",
    "# 确保所有列的数据类型都是 float32\n",
    "all_features = all_features.astype(np.float32)\n",
    "\n",
    "# 打印特征的数据类型，检查是否所有特征都是数值类型\n",
    "print(all_features.dtypes)\n",
    "\n",
    "# 转换为PyTorch张量\n",
    "n_train = train_data.shape[0]\n",
    "train_features = torch.tensor(all_features[:n_train].values, dtype=torch.float32)\n",
    "test_features = torch.tensor(all_features[n_train:].values, dtype=torch.float32)\n",
    "train_labels = torch.tensor(train_data.SalePrice.values.reshape(-1, 1), dtype=torch.float32)\n",
    "\n",
    "print(\"Train features shape:\", train_features.shape)\n",
    "print(\"Test features shape:\", test_features.shape)\n",
    "print(\"Train labels shape:\", train_labels.shape)\n"
   ]
  },
  {
   "cell_type": "markdown",
   "metadata": {},
   "source": [
    "# 2. 训练"
   ]
  },
  {
   "cell_type": "markdown",
   "metadata": {},
   "source": [
    "## 2.1 定义模型"
   ]
  },
  {
   "cell_type": "code",
   "execution_count": 12,
   "metadata": {},
   "outputs": [],
   "source": [
    "class HousePriceModel(nn.Module):\n",
    "    def __init__(self, input_dim):\n",
    "        super(HousePriceModel, self).__init__()\n",
    "        self.hidden1 = nn.Linear(input_dim, 256)\n",
    "        self.hidden2 = nn.Linear(256, 64)\n",
    "        self.hidden3 = nn.Linear(64, 16)\n",
    "        self.output = nn.Linear(16, 1)\n",
    "        self.relu = nn.ReLU()\n",
    "\n",
    "    def forward(self, x):\n",
    "        x = self.relu(self.hidden1(x))\n",
    "        x = self.relu(self.hidden2(x))\n",
    "        x = self.relu(self.hidden3(x))\n",
    "        x = self.output(x)\n",
    "        return x\n",
    "    "
   ]
  },
  {
   "cell_type": "code",
   "execution_count": 13,
   "metadata": {},
   "outputs": [
    {
     "name": "stdout",
     "output_type": "stream",
     "text": [
      "tensor([[ 0.0673, -0.1844, -0.2178,  ...,  1.0000,  0.0000,  0.0000],\n",
      "        [-0.8735,  0.4581, -0.0720,  ...,  1.0000,  0.0000,  0.0000],\n",
      "        [ 0.0673, -0.0559,  0.1372,  ...,  1.0000,  0.0000,  0.0000],\n",
      "        ...,\n",
      "        [ 0.3025, -0.1416, -0.1428,  ...,  1.0000,  0.0000,  0.0000],\n",
      "        [-0.8735, -0.0559, -0.0572,  ...,  1.0000,  0.0000,  0.0000],\n",
      "        [-0.8735,  0.2439, -0.0293,  ...,  1.0000,  0.0000,  0.0000]])\n"
     ]
    }
   ],
   "source": [
    "batch_size = 64\n",
    "train_dataset = TensorDataset(train_features, train_labels)\n",
    "train_loader = DataLoader(train_dataset, batch_size=batch_size, shuffle=True)\n",
    "\n",
    "print(train_features)"
   ]
  },
  {
   "cell_type": "markdown",
   "metadata": {},
   "source": [
    "## 2.3 损失函数和优化器"
   ]
  },
  {
   "cell_type": "code",
   "execution_count": 14,
   "metadata": {},
   "outputs": [],
   "source": [
    "# 定义损失函数\n",
    "class RelativeErrorLoss(nn.Module):\n",
    "    def __init__(self):\n",
    "        super(RelativeErrorLoss, self).__init__()\n",
    "\n",
    "    def forward(self, preds, labels):\n",
    "        relative_error = torch.abs(preds - labels) / torch.abs(labels)\n",
    "        return torch.mean(relative_error)\n",
    "\n",
    "loss_fn = RelativeErrorLoss()\n"
   ]
  },
  {
   "cell_type": "markdown",
   "metadata": {},
   "source": [
    "## 2.4 训练"
   ]
  },
  {
   "cell_type": "code",
   "execution_count": 15,
   "metadata": {},
   "outputs": [
    {
     "name": "stdout",
     "output_type": "stream",
     "text": [
      "Final Loss: 0.0620\n"
     ]
    },
    {
     "data": {
      "image/png": "[encoded data removed]",
      "text/plain": [
       "<Figure size 350x250 with 1 Axes>"
      ]
     },
     "metadata": {},
     "output_type": "display_data"
    }
   ],
   "source": [
    "# 导入 Animator 模块\n",
    "from animator import Animator\n",
    "\n",
    "# 初始化模型和优化器\n",
    "in_features = train_features.shape[1]\n",
    "model = HousePriceModel(in_features)\n",
    "optimizer = optim.Adam(model.parameters(), lr=0.001)\n",
    "num_epochs = 300\n",
    "\n",
    "# 使用 Animator 动态绘图\n",
    "animator = Animator(xlabel='Epoch', ylabel='Loss', xlim=[0, num_epochs], ylim=[0, 1])\n",
    "\n",
    "# 训练过程\n",
    "for epoch in range(num_epochs):\n",
    "    model.train()\n",
    "    epoch_loss = 0\n",
    "    for X, y in train_loader:\n",
    "        y_pred = model(X)\n",
    "        loss = loss_fn(y_pred, y)\n",
    "\n",
    "        optimizer.zero_grad()\n",
    "        loss.backward()\n",
    "        optimizer.step()\n",
    "\n",
    "        epoch_loss += loss.item()\n",
    "\n",
    "    epoch_loss /= len(train_loader)\n",
    "    \n",
    "    if (epoch + 1) % 10 == 0:\n",
    "        print(f'Epoch {epoch + 1}, Loss: {epoch_loss:.4f}')\n",
    "            \n",
    "        # 添加损失到动画\n",
    "        animator.add(epoch + 1, epoch_loss)\n",
    "        \n",
    "\n",
    "# 打印最终损失\n",
    "print(f'Final Loss: {epoch_loss:.4f}')"
   ]
  },
  {
   "cell_type": "code",
   "execution_count": 16,
   "metadata": {},
   "outputs": [],
   "source": [
    "# 评估模型并生成提交文件\n",
    "model.eval()\n",
    "with torch.no_grad():\n",
    "    test_preds = model(test_features).numpy()\n",
    "\n",
    "submission = pd.DataFrame({\n",
    "    'Id': test_data.Id,\n",
    "    'SalePrice': test_preds.flatten()\n",
    "})\n",
    "submission.to_csv('submission_mlp.csv', index=False)"
   ]
  }
 ],
 "metadata": {
  "kernelspec": {
   "display_name": "d2l",
   "language": "python",
   "name": "python3"
  },
  "language_info": {
   "codemirror_mode": {
    "name": "ipython",
    "version": 3
   },
   "file_extension": ".py",
   "mimetype": "text/x-python",
   "name": "python",
   "nbconvert_exporter": "python",
   "pygments_lexer": "ipython3",
   "version": "3.9.19"
  }
 },
 "nbformat": 4,
 "nbformat_minor": 2
}
